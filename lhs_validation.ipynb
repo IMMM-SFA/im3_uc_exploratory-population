{
 "cells": [
  {
   "cell_type": "code",
   "execution_count": 1,
   "id": "0813861e-7653-4978-a9d8-4bc6e88c23e0",
   "metadata": {},
   "outputs": [],
   "source": [
    "import os\n",
    "import sa_popgrid\n"
   ]
  },
  {
   "cell_type": "code",
   "execution_count": 2,
   "id": "6001667d-160a-48b6-b154-26d851db890c",
   "metadata": {},
   "outputs": [],
   "source": [
    "root_dir = '/Users/d3y010/projects/population/walkthrough'\n",
    "\n",
    "# directory of the unzipped data from Zenodo\n",
    "data_dir = os.path.join(root_dir, 'updated_inputs_150km')\n",
    "\n",
    "simulation_output_dir = os.path.join(root_dir, 'lhs_validation_2000to2010')\n",
    "\n",
    "target_state = 'california'\n",
    "historical_year = 2000\n",
    "projection_year = 2010\n"
   ]
  },
  {
   "cell_type": "code",
   "execution_count": 4,
   "id": "106cd9dc-a55a-42c0-bf15-9610f38e4bb8",
   "metadata": {},
   "outputs": [
    {
     "name": "stdout",
     "output_type": "stream",
     "text": [
      "2021-06-07 17:56:44,195 - root - INFO - Start time:  2021-06-07_17h56m44s\n",
      "2021-06-07 17:56:44,195 - root - INFO - Input parameters:\n",
      "2021-06-07 17:56:44,196 - root - INFO - \tbase_urban_pop_raster = /Users/d3y010/projects/population/walkthrough/updated_inputs_150km/california/inputs/california_urban_2000_1km.tif\n",
      "2021-06-07 17:56:44,196 - root - INFO - \tbase_rural_pop_raster = /Users/d3y010/projects/population/walkthrough/updated_inputs_150km/california/inputs/california_rural_2000_1km.tif\n",
      "2021-06-07 17:56:44,197 - root - INFO - \tone_dimension_indices_file = /Users/d3y010/projects/population/walkthrough/updated_inputs_150km/california/inputs/california_within_indices.txt\n",
      "2021-06-07 17:56:44,197 - root - INFO - \tprojection_year = 2010\n",
      "2021-06-07 17:56:44,198 - root - INFO - \tgrid_coordinates_file = /Users/d3y010/projects/population/walkthrough/updated_inputs_150km/california/inputs/california_coordinates.csv\n",
      "2021-06-07 17:56:44,198 - root - INFO - \thistorical_suitability_raster = /Users/d3y010/projects/population/walkthrough/updated_inputs_150km/california/inputs/california_mask_short_term.tif\n",
      "2021-06-07 17:56:44,199 - root - INFO - \tstate_name = california\n",
      "2021-06-07 17:56:44,200 - root - INFO - \tscenario = validation\n",
      "2021-06-07 17:56:44,200 - root - INFO - \toutput_directory = /Users/d3y010/projects/population/walkthrough/lhs_validation_2000to2010\n",
      "2021-06-07 17:56:44,201 - root - INFO - \tkernel_distance_meters = 56649.370387671384\n",
      "2021-06-07 17:56:44,201 - root - INFO - \talpha_urban = -0.9064028615540667\n",
      "2021-06-07 17:56:44,202 - root - INFO - \talpha_rural = -3.147814556809376\n",
      "2021-06-07 17:56:44,203 - root - INFO - \tbeta_urban = -2.9012603321966584\n",
      "2021-06-07 17:56:44,204 - root - INFO - \tbeta_rural = -1.4952533123471023\n",
      "2021-06-07 17:56:44,204 - root - INFO - \turban_pop_proj_n = 35221640.0\n",
      "2021-06-07 17:56:44,205 - root - INFO - \trural_pop_proj_n = 1872743.875\n",
      "2021-06-07 17:56:44,206 - root - INFO - \trun_number = 0\n",
      "2021-06-07 17:56:44,206 - root - INFO - Starting downscaling.\n",
      "2021-06-07 17:56:44,207 - root - INFO - Downscaling year:  2010\n",
      "2021-06-07 17:57:04,905 - root - INFO - Saving rural array to:  /Users/d3y010/projects/population/walkthrough/lhs_validation_2000to2010/california_1km_validation_rural_2010_0_1d.npy\n",
      "2021-06-07 17:57:24,776 - root - INFO - Saving urban array to:  /Users/d3y010/projects/population/walkthrough/lhs_validation_2000to2010/california_1km_validation_urban_2010_0_1d.npy\n",
      "2021-06-07 17:57:25,025 - root - INFO - Downscaling for year 2010 completed in 0.6803061842918396 minutes.\n",
      "2021-06-07 17:57:25,048 - root - INFO - Downscaling completed in 0.6806998213132223 minutes.\n",
      "2021-06-07 17:57:25,049 - root - INFO - End time:  2021-06-07 17:57:25\n"
     ]
    }
   ],
   "source": [
    "sa_popgrid.run_validation(target_state,\n",
    "                           historical_year,\n",
    "                           projection_year,\n",
    "                           data_dir,\n",
    "                           simulation_output_dir,\n",
    "                           scenario='validation',\n",
    "                           lhs_array_file=None,\n",
    "                           lhs_problem_file=None,\n",
    "                           sample_id=0,\n",
    "                           write_logfile=False,\n",
    "                           write_raster=False,\n",
    "                           output_total=False,\n",
    "                           write_array1d=True)\n"
   ]
  },
  {
   "cell_type": "code",
   "execution_count": null,
   "id": "122a1ffe-e0ab-4c02-940f-ccc0559c63a5",
   "metadata": {},
   "outputs": [],
   "source": []
  }
 ],
 "metadata": {
  "kernelspec": {
   "display_name": "py3.9.4_pop",
   "language": "python",
   "name": "py3.9.4_pop"
  },
  "language_info": {
   "codemirror_mode": {
    "name": "ipython",
    "version": 3
   },
   "file_extension": ".py",
   "mimetype": "text/x-python",
   "name": "python",
   "nbconvert_exporter": "python",
   "pygments_lexer": "ipython3",
   "version": "3.9.4"
  }
 },
 "nbformat": 4,
 "nbformat_minor": 5
}
