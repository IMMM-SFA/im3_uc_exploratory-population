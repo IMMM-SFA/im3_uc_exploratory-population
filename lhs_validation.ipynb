{
 "cells": [
  {
   "cell_type": "code",
   "execution_count": 1,
   "id": "0813861e-7653-4978-a9d8-4bc6e88c23e0",
   "metadata": {},
   "outputs": [],
   "source": [
    "import os\n",
    "import sa_popgrid\n"
   ]
  },
  {
   "cell_type": "code",
   "execution_count": 2,
   "id": "6001667d-160a-48b6-b154-26d851db890c",
   "metadata": {},
   "outputs": [],
   "source": [
    "root_dir = '/Users/d3y010/projects/population/walkthrough'\n",
    "\n",
    "# directory of the unzipped data from Zenodo\n",
    "data_dir = os.path.join(root_dir, 'updated_inputs_150km')\n",
    "\n",
    "simulation_output_dir = os.path.join(root_dir, 'lhs_validation_2000to2010')\n",
    "\n",
    "target_state = 'california'\n",
    "historical_year = 2000\n",
    "projection_year = 2010\n"
   ]
  },
  {
   "cell_type": "code",
   "execution_count": 4,
   "id": "106cd9dc-a55a-42c0-bf15-9610f38e4bb8",
   "metadata": {},
   "outputs": [
    {
     "name": "stdout",
     "output_type": "stream",
     "text": [
      "2021-06-07 10:37:35,286 - root - INFO - Start time:  2021-06-07_10h37m35s\n",
      "2021-06-07 10:37:35,287 - root - INFO - Input parameters:\n",
      "2021-06-07 10:37:35,287 - root - INFO - \tbase_urban_pop_raster = /Users/d3y010/projects/population/walkthrough/updated_inputs_150km/california/inputs/california_urban_2000_1km.tif\n",
      "2021-06-07 10:37:35,288 - root - INFO - \tbase_rural_pop_raster = /Users/d3y010/projects/population/walkthrough/updated_inputs_150km/california/inputs/california_rural_2000_1km.tif\n",
      "2021-06-07 10:37:35,289 - root - INFO - \tone_dimension_indices_file = /Users/d3y010/projects/population/walkthrough/updated_inputs_150km/california/inputs/california_within_indices.txt\n",
      "2021-06-07 10:37:35,289 - root - INFO - \tprojection_year = 2010\n",
      "2021-06-07 10:37:35,290 - root - INFO - \tgrid_coordinates_file = /Users/d3y010/projects/population/walkthrough/updated_inputs_150km/california/inputs/california_coordinates.csv\n",
      "2021-06-07 10:37:35,291 - root - INFO - \thistorical_suitability_raster = /Users/d3y010/projects/population/walkthrough/updated_inputs_150km/california/inputs/california_mask_short_term.tif\n",
      "2021-06-07 10:37:35,291 - root - INFO - \tstate_name = california\n",
      "2021-06-07 10:37:35,291 - root - INFO - \tscenario = validation\n",
      "2021-06-07 10:37:35,292 - root - INFO - \toutput_directory = /Users/d3y010/projects/population/walkthrough/lhs_validation_2000to2010\n",
      "2021-06-07 10:37:35,292 - root - INFO - \tkernel_distance_meters = 56649.370387671384\n",
      "2021-06-07 10:37:35,293 - root - INFO - \talpha_urban = -0.9064028615540667\n",
      "2021-06-07 10:37:35,294 - root - INFO - \talpha_rural = -3.147814556809376\n",
      "2021-06-07 10:37:35,294 - root - INFO - \tbeta_urban = -2.9012603321966584\n",
      "2021-06-07 10:37:35,295 - root - INFO - \tbeta_rural = -1.4952533123471023\n",
      "2021-06-07 10:37:35,296 - root - INFO - \turban_pop_proj_n = 35221640.0\n",
      "2021-06-07 10:37:35,297 - root - INFO - \trural_pop_proj_n = 1872743.875\n",
      "2021-06-07 10:37:35,297 - root - INFO - \trun_number = 0\n",
      "2021-06-07 10:37:35,298 - root - INFO - Starting downscaling.\n",
      "2021-06-07 10:37:35,299 - root - INFO - Downscaling year:  2010\n",
      "2021-06-07 10:37:56,275 - root - INFO - Saving rural raster to:  /Users/d3y010/projects/population/walkthrough/lhs_validation_2000to2010/california_1km_validation_rural_2010_0.tif\n",
      "2021-06-07 10:38:16,295 - root - INFO - Saving urban raster to:  /Users/d3y010/projects/population/walkthrough/lhs_validation_2000to2010/california_1km_validation_urban_2010_0.tif\n",
      "2021-06-07 10:38:16,461 - root - INFO - Saving total raster to:  /Users/d3y010/projects/population/walkthrough/lhs_validation_2000to2010/california_1km_validation_total_2010_0.tif\n",
      "2021-06-07 10:38:16,859 - root - INFO - Downscaling for year 2010 completed in 0.6926637967427571 minutes.\n",
      "2021-06-07 10:38:16,881 - root - INFO - Downscaling completed in 0.6930381536483765 minutes.\n",
      "2021-06-07 10:38:16,881 - root - INFO - End time:  2021-06-07 10:38:16\n"
     ]
    }
   ],
   "source": [
    "sa_popgrid.run_validation(target_state, \n",
    "                           historical_year, \n",
    "                           projection_year, \n",
    "                           data_dir, \n",
    "                           simulation_output_dir,\n",
    "                           scenario='validation', \n",
    "                           lhs_array_file=None,\n",
    "                           lhs_problem_file=None, \n",
    "                           sample_id=0)\n"
   ]
  },
  {
   "cell_type": "code",
   "execution_count": null,
   "id": "122a1ffe-e0ab-4c02-940f-ccc0559c63a5",
   "metadata": {},
   "outputs": [],
   "source": []
  }
 ],
 "metadata": {
  "kernelspec": {
   "display_name": "py3.9.4_pop",
   "language": "python",
   "name": "py3.9.4_pop"
  },
  "language_info": {
   "codemirror_mode": {
    "name": "ipython",
    "version": 3
   },
   "file_extension": ".py",
   "mimetype": "text/x-python",
   "name": "python",
   "nbconvert_exporter": "python",
   "pygments_lexer": "ipython3",
   "version": "3.9.4"
  }
 },
 "nbformat": 4,
 "nbformat_minor": 5
}
