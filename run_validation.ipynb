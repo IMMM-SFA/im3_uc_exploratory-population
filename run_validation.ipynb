{
 "cells": [
  {
   "cell_type": "code",
   "execution_count": 1,
   "id": "d15fe3da-353b-45dc-aee3-f4c8f76d3c73",
   "metadata": {},
   "outputs": [],
   "source": [
    "import os\n",
    "\n",
    "import sa_popgrid\n"
   ]
  },
  {
   "cell_type": "code",
   "execution_count": 4,
   "id": "db7ef4b3-3cbb-4429-9158-9702f85d5ecf",
   "metadata": {},
   "outputs": [],
   "source": [
    "root_dir = '/Users/d3y010/projects/population/walkthrough'\n",
    "\n",
    "# directory of the unzipped data from Zenodo\n",
    "data_dir = os.path.join(root_dir, 'updated_inputs_150km')\n",
    "\n",
    "simulation_output_dir = os.path.join(root_dir, 'validation_2000to2010')\n",
    "\n",
    "target_state = 'california'\n",
    "historical_year = 2000\n",
    "projection_year = 2010\n",
    "\n"
   ]
  },
  {
   "cell_type": "code",
   "execution_count": 5,
   "id": "151e414d-f17c-4817-99df-f895c58e4ce9",
   "metadata": {},
   "outputs": [
    {
     "name": "stdout",
     "output_type": "stream",
     "text": [
      "2021-06-07 09:22:03,168 - root - INFO - Start time:  2021-06-07_09h22m03s\n",
      "2021-06-07 09:22:03,169 - root - INFO - Input parameters:\n",
      "2021-06-07 09:22:03,169 - root - INFO - \tbase_urban_pop_raster = /Users/d3y010/projects/population/walkthrough/updated_inputs_150km/california/inputs/california_urban_2000_1km.tif\n",
      "2021-06-07 09:22:03,170 - root - INFO - \tbase_rural_pop_raster = /Users/d3y010/projects/population/walkthrough/updated_inputs_150km/california/inputs/california_rural_2000_1km.tif\n",
      "2021-06-07 09:22:03,171 - root - INFO - \tone_dimension_indices_file = /Users/d3y010/projects/population/walkthrough/updated_inputs_150km/california/inputs/california_within_indices.txt\n",
      "2021-06-07 09:22:03,171 - root - INFO - \tprojection_year = 2010\n",
      "2021-06-07 09:22:03,172 - root - INFO - \tgrid_coordinates_file = /Users/d3y010/projects/population/walkthrough/updated_inputs_150km/california/inputs/california_coordinates.csv\n",
      "2021-06-07 09:22:03,172 - root - INFO - \thistorical_suitability_raster = /Users/d3y010/projects/population/walkthrough/updated_inputs_150km/california/inputs/california_mask_short_term.tif\n",
      "2021-06-07 09:22:03,173 - root - INFO - \tstate_name = california\n",
      "2021-06-07 09:22:03,174 - root - INFO - \tscenario = validation\n",
      "2021-06-07 09:22:03,175 - root - INFO - \toutput_directory = /Users/d3y010/projects/population/walkthrough/validation_2000to2010\n",
      "2021-06-07 09:22:03,175 - root - INFO - \tkernel_distance_meters = 100000.0\n",
      "2021-06-07 09:22:03,176 - root - INFO - \talpha_urban = 0.814\n",
      "2021-06-07 09:22:03,177 - root - INFO - \talpha_rural = -1.78899266\n",
      "2021-06-07 09:22:03,178 - root - INFO - \tbeta_urban = 2.0\n",
      "2021-06-07 09:22:03,178 - root - INFO - \tbeta_rural = 1.999997896\n",
      "2021-06-07 09:22:03,179 - root - INFO - \turban_pop_proj_n = 35221640.0\n",
      "2021-06-07 09:22:03,180 - root - INFO - \trural_pop_proj_n = 1872743.875\n",
      "2021-06-07 09:22:03,180 - root - INFO - Starting downscaling.\n",
      "2021-06-07 09:22:03,182 - root - INFO - Downscaling year:  2010\n",
      "2021-06-07 09:23:01,773 - root - INFO - Saving rural raster to:  /Users/d3y010/projects/population/walkthrough/validation_2000to2010/california_1km_validation_rural_2010.tif\n",
      "2021-06-07 09:24:00,867 - root - INFO - Saving urban raster to:  /Users/d3y010/projects/population/walkthrough/validation_2000to2010/california_1km_validation_urban_2010.tif\n",
      "2021-06-07 09:24:01,035 - root - INFO - Saving total raster to:  /Users/d3y010/projects/population/walkthrough/validation_2000to2010/california_1km_validation_total_2010.tif\n",
      "2021-06-07 09:24:01,433 - root - INFO - Downscaling for year 2010 completed in 1.970850396156311 minutes.\n",
      "2021-06-07 09:24:01,454 - root - INFO - Downscaling completed in 1.9712334354718526 minutes.\n",
      "2021-06-07 09:24:01,455 - root - INFO - End time:  2021-06-07 09:24:01\n"
     ]
    }
   ],
   "source": [
    "sa_popgrid.run_validation(target_state, historical_year, projection_year, data_dir, simulation_output_dir)\n"
   ]
  },
  {
   "cell_type": "code",
   "execution_count": null,
   "id": "b9387c7a-c792-4dac-8418-53ca3bcdf2a3",
   "metadata": {},
   "outputs": [],
   "source": []
  }
 ],
 "metadata": {
  "kernelspec": {
   "display_name": "py3.9.4_pop",
   "language": "python",
   "name": "py3.9.4_pop"
  },
  "language_info": {
   "codemirror_mode": {
    "name": "ipython",
    "version": 3
   },
   "file_extension": ".py",
   "mimetype": "text/x-python",
   "name": "python",
   "nbconvert_exporter": "python",
   "pygments_lexer": "ipython3",
   "version": "3.9.4"
  }
 },
 "nbformat": 4,
 "nbformat_minor": 5
}
