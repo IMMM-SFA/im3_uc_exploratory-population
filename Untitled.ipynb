{
 "cells": [
  {
   "cell_type": "code",
   "execution_count": 9,
   "id": "ae60c73a-9cba-4376-b9f7-d2999013349e",
   "metadata": {},
   "outputs": [
    {
     "name": "stderr",
     "output_type": "stream",
     "text": [
      "/Users/d3y010/.pyenv/versions/py3.9.4_pop/lib/python3.9/site-packages/SALib/util/__init__.py:222: SyntaxWarning: \"is\" with a literal. Did you mean \"==\"?\n",
      "  elif row['group'] is 'NA':\n",
      "/Users/d3y010/.pyenv/versions/py3.9.4_pop/lib/python3.9/site-packages/SALib/util/results.py:15: SyntaxWarning: \"is not\" with a literal. Did you mean \"!=\"?\n",
      "  return pd.DataFrame({k: v for k, v in self.items() if k is not 'names'},\n"
     ]
    }
   ],
   "source": [
    "import os\n",
    "\n",
    "import pickle\n",
    "\n",
    "import numpy as np\n",
    "\n",
    "from SALib.sample import latin\n",
    "\n"
   ]
  },
  {
   "cell_type": "code",
   "execution_count": 2,
   "id": "08eaa157-ce1c-4023-b1f2-e6132871e33e",
   "metadata": {},
   "outputs": [],
   "source": [
    "import pkg_resources\n",
    "\n",
    "lhs_array_file = pkg_resources.resource_filename('sa_popgrid', 'data/lhs_1000_sample.npy')\n",
    "lhs_problem_dict_file = pkg_resources.resource_filename('sa_popgrid', 'data/lhs_1000_problem_dict.p')"
   ]
  },
  {
   "cell_type": "code",
   "execution_count": 3,
   "id": "06ae04cb-fb55-42d9-b9d6-27c087698689",
   "metadata": {},
   "outputs": [
    {
     "data": {
      "text/plain": [
       "array([[-9.06402862e-01, -3.14781456e+00, -2.90126033e+00,\n",
       "        -1.49525331e+00,  5.66493704e+04],\n",
       "       [-6.77014122e-03,  2.10029136e+00,  3.39135036e+00,\n",
       "        -2.97466342e-01,  1.25711663e+05],\n",
       "       [-3.33935443e+00, -2.34468735e+00,  3.29883963e+00,\n",
       "         3.39620304e+00,  7.53265214e+04],\n",
       "       ...,\n",
       "       [-1.79740963e+00, -1.41119717e-01,  3.66133941e+00,\n",
       "        -1.93261229e-01,  9.08248506e+04],\n",
       "       [ 1.61306125e+00, -2.76730367e+00, -2.83255641e+00,\n",
       "         3.60308900e+00,  8.40046111e+04],\n",
       "       [ 1.76274236e+00, -3.61727396e+00,  3.22296937e+00,\n",
       "        -6.91786317e-01,  9.10800342e+04]])"
      ]
     },
     "execution_count": 3,
     "metadata": {},
     "output_type": "execute_result"
    }
   ],
   "source": [
    "lhs_array = np.load(lhs_array_file)"
   ]
  },
  {
   "cell_type": "code",
   "execution_count": null,
   "id": "1b78759a-3afb-4ce6-ab48-ece3000506e1",
   "metadata": {},
   "outputs": [],
   "source": [
    "d = pickle.load(open(lhs_problem_dict_file, \"rb\" ) )\n"
   ]
  },
  {
   "cell_type": "code",
   "execution_count": 5,
   "id": "9fb80891-b7e7-47b5-8f9d-b53b56391cf4",
   "metadata": {},
   "outputs": [],
   "source": [
    "with open(lhs_problem_dict_file, \"rb\") as prob:\n",
    "    lhs_problem_dict = pickle.load(prob)"
   ]
  },
  {
   "cell_type": "code",
   "execution_count": 6,
   "id": "556a50ea-3f26-49f4-9ee0-b0db023ff80d",
   "metadata": {},
   "outputs": [
    {
     "data": {
      "text/plain": [
       "{'num_vars': 5,\n",
       " 'names': ['alpha_urban',\n",
       "  'alpha_rural',\n",
       "  'beta_urban',\n",
       "  'beta_rural',\n",
       "  'kernel_distance_meters'],\n",
       " 'bounds': [[-4, 4], [-4, 4], [-4, 4], [-4, 4], [50000, 150000]]}"
      ]
     },
     "execution_count": 6,
     "metadata": {},
     "output_type": "execute_result"
    }
   ],
   "source": [
    "lhs_problem_dict"
   ]
  },
  {
   "cell_type": "code",
   "execution_count": 7,
   "id": "c3920454-090c-4a17-b2db-521bbc9260f6",
   "metadata": {},
   "outputs": [],
   "source": [
    "problem = {'num_vars': 5,\n",
    " 'names': ['alpha_urban',\n",
    "  'alpha_rural',\n",
    "  'beta_urban',\n",
    "  'beta_rural',\n",
    "  'kernel_distance_meters'],\n",
    " 'bounds': [[-4, 4], [-4, 4], [-4, 4], [-4, 4], [50000, 150000]]}\n"
   ]
  },
  {
   "cell_type": "code",
   "execution_count": 10,
   "id": "a58e8286-2601-4e59-bc2e-7f322433f8bd",
   "metadata": {},
   "outputs": [
    {
     "data": {
      "text/plain": [
       "array([[ 1.54116887e+00, -3.49831344e+00, -2.39457788e+00,\n",
       "        -2.42979725e+00,  1.38538314e+05],\n",
       "       [ 3.68861088e+00,  3.81057737e+00,  1.07983260e-01,\n",
       "         3.23855252e+00,  5.39351145e+04],\n",
       "       [-3.79261597e+00,  2.89734997e+00, -1.82968463e-01,\n",
       "        -1.02619776e+00,  7.47753675e+04],\n",
       "       ...,\n",
       "       [ 2.20719566e+00,  2.47811181e-01, -3.39844521e+00,\n",
       "        -5.53431966e-01,  7.10370159e+04],\n",
       "       [ 1.42698303e+00,  3.00623738e+00, -6.74804837e-01,\n",
       "         1.32221731e+00,  1.24438026e+05],\n",
       "       [ 2.77452377e+00, -2.36763182e+00,  1.76079149e+00,\n",
       "         2.60403532e+00,  5.49348256e+04]])"
      ]
     },
     "execution_count": 10,
     "metadata": {},
     "output_type": "execute_result"
    }
   ],
   "source": [
    "latin.sample(problem, 1000)"
   ]
  },
  {
   "cell_type": "code",
   "execution_count": null,
   "id": "0fa20f3e-1f32-4be6-9cf4-3dd7755bb1f0",
   "metadata": {},
   "outputs": [],
   "source": []
  }
 ],
 "metadata": {
  "kernelspec": {
   "display_name": "py3.9.4_pop",
   "language": "python",
   "name": "py3.9.4_pop"
  },
  "language_info": {
   "codemirror_mode": {
    "name": "ipython",
    "version": 3
   },
   "file_extension": ".py",
   "mimetype": "text/x-python",
   "name": "python",
   "nbconvert_exporter": "python",
   "pygments_lexer": "ipython3",
   "version": "3.9.4"
  }
 },
 "nbformat": 4,
 "nbformat_minor": 5
}
