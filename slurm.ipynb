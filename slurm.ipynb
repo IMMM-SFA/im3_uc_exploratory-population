{
 "cells": [
  {
   "cell_type": "code",
   "execution_count": 1,
   "id": "a7cbd68e-1adc-4c44-a4cc-89e9d48d245a",
   "metadata": {},
   "outputs": [],
   "source": [
    "import os\n",
    "\n",
    "from sa_popgrid import submit_slurm_array\n"
   ]
  },
  {
   "cell_type": "code",
   "execution_count": 2,
   "id": "003d8113-a76e-462b-bfbf-2437febd7de4",
   "metadata": {},
   "outputs": [],
   "source": [
    "output_script_dir = '/Users/d3y010/Desktop' \n",
    "n_samples = 1000\n",
    "data_dir = '/my/data'\n",
    "simulation_output_dir = '/my/sim'\n",
    "slurm_out_dir = '/my/slurm'\n",
    "venv_dir = '/my/env'\n",
    "hist_yr = 2000\n",
    "proj_yr = 2010\n",
    "state_name = 'virginia'\n",
    "scenario = 'validation'\n"
   ]
  },
  {
   "cell_type": "code",
   "execution_count": 3,
   "id": "51d713ea-b77d-444a-9dc9-cb7475a823c4",
   "metadata": {},
   "outputs": [],
   "source": [
    "submit_slurm_array(output_script_dir, \n",
    "                   n_samples, data_dir, \n",
    "                   simulation_output_dir, \n",
    "                   slurm_out_dir,\n",
    "                   venv_dir, \n",
    "                   hist_yr, \n",
    "                   proj_yr, \n",
    "                   state_name, \n",
    "                   scenario, \n",
    "                   walltime='01:00:00', \n",
    "                   submit_job=False, \n",
    "                   partition='normal',\n",
    "                   account_name='', \n",
    "                   max_jobs=None, \n",
    "                   method='validation', \n",
    "                   lhs_array_file=None, \n",
    "                   lhs_problem_file=None,\n",
    "                   write_raster=False, \n",
    "                   output_total=False, \n",
    "                   write_array1d=True)\n"
   ]
  },
  {
   "cell_type": "code",
   "execution_count": null,
   "id": "522a1bc1-868f-42c9-a9ce-5cfc3652237d",
   "metadata": {},
   "outputs": [],
   "source": []
  }
 ],
 "metadata": {
  "kernelspec": {
   "display_name": "py3.9.4_pop",
   "language": "python",
   "name": "py3.9.4_pop"
  },
  "language_info": {
   "codemirror_mode": {
    "name": "ipython",
    "version": 3
   },
   "file_extension": ".py",
   "mimetype": "text/x-python",
   "name": "python",
   "nbconvert_exporter": "python",
   "pygments_lexer": "ipython3",
   "version": "3.9.4"
  }
 },
 "nbformat": 4,
 "nbformat_minor": 5
}
