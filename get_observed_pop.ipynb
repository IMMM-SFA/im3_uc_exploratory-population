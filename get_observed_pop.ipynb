{
 "cells": [
  {
   "cell_type": "code",
   "execution_count": 2,
   "id": "a1923e84-7934-4990-b39f-60f267b5f6c6",
   "metadata": {},
   "outputs": [],
   "source": [
    "\n",
    "import os\n",
    "\n",
    "import numpy as np\n",
    "import rasterio\n",
    "import simplejson\n",
    "\n"
   ]
  },
  {
   "cell_type": "code",
   "execution_count": 3,
   "id": "cfa36019-47bc-48c6-bf01-5f0784a65c5e",
   "metadata": {},
   "outputs": [],
   "source": [
    "state_name = 'virginia'\n",
    "proj_year = 2010\n",
    "\n",
    "data_dir = '/Users/d3y010/projects/population/walkthrough/updated_inputs_150km'\n",
    "\n",
    "indices_file = os.path.join(data_dir, state_name, 'inputs', f'{state_name}_within_indices.txt')\n",
    "\n",
    "urban_pop_file = os.path.join(data_dir, state_name, 'inputs', f'{state_name}_urban_{proj_year}_1km.tif')\n",
    "rural_pop_file = os.path.join(data_dir, state_name, 'inputs', f'{state_name}_rural_{proj_year}_1km.tif')\n"
   ]
  },
  {
   "cell_type": "code",
   "execution_count": 4,
   "id": "71ea844a-4fd6-4563-80c8-05136d68d519",
   "metadata": {},
   "outputs": [],
   "source": [
    "with open(indices_file, 'r') as rn:\n",
    "    within_indices = np.array(simplejson.load(rn))\n",
    "    "
   ]
  },
  {
   "cell_type": "code",
   "execution_count": 5,
   "id": "7cf327d2-a4ed-4d7f-ae61-bfc192aaf36f",
   "metadata": {},
   "outputs": [],
   "source": [
    "with rasterio.open(urban_pop_file) as urb:\n",
    "    urb_arr = urb.read(1).flatten()[within_indices]\n",
    "\n",
    "with rasterio.open(rural_pop_file) as rur:\n",
    "    rur_arr = rur.read(1).flatten()[within_indices]\n"
   ]
  },
  {
   "cell_type": "code",
   "execution_count": 8,
   "id": "9aa08fa7-284f-4f95-8047-29decffc8c25",
   "metadata": {},
   "outputs": [
    {
     "data": {
      "text/plain": [
       "7942115.0"
      ]
     },
     "execution_count": 8,
     "metadata": {},
     "output_type": "execute_result"
    }
   ],
   "source": [
    "urb_arr.sum() + rur_arr.sum()"
   ]
  },
  {
   "cell_type": "code",
   "execution_count": null,
   "id": "9cff72a0-b341-4516-b9a3-5f803882f0a7",
   "metadata": {},
   "outputs": [],
   "source": []
  }
 ],
 "metadata": {
  "kernelspec": {
   "display_name": "py3.9.4_pop",
   "language": "python",
   "name": "py3.9.4_pop"
  },
  "language_info": {
   "codemirror_mode": {
    "name": "ipython",
    "version": 3
   },
   "file_extension": ".py",
   "mimetype": "text/x-python",
   "name": "python",
   "nbconvert_exporter": "python",
   "pygments_lexer": "ipython3",
   "version": "3.9.4"
  }
 },
 "nbformat": 4,
 "nbformat_minor": 5
}
